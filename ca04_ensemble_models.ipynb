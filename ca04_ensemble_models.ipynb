{
  "nbformat": 4,
  "nbformat_minor": 0,
  "metadata": {
    "colab": {
      "provenance": [],
      "toc_visible": true
    },
    "kernelspec": {
      "name": "python3",
      "display_name": "Python 3"
    },
    "language_info": {
      "name": "python"
    }
  },
  "cells": [
    {
      "cell_type": "markdown",
      "source": [
        "# Data Source and Contents"
      ],
      "metadata": {
        "id": "GVvQCY-1PoA3"
      }
    },
    {
      "cell_type": "code",
      "execution_count": 227,
      "metadata": {
        "id": "9pzjAQdNxDhQ"
      },
      "outputs": [],
      "source": [
        "# Importing Libraries\n",
        "import pandas as pd\n",
        "import numpy as np\n",
        "import matplotlib.pyplot as plt\n",
        "import seaborn as sns"
      ]
    },
    {
      "cell_type": "code",
      "source": [
        "df = pd.read_csv(\"https://github.com/ArinB/MSBA-CA-03-Decision-Trees/blob/master/census_data.csv?raw=true\")"
      ],
      "metadata": {
        "id": "6e-8WL31OrSa"
      },
      "execution_count": 228,
      "outputs": []
    },
    {
      "cell_type": "code",
      "source": [
        "## Print first few rows\n",
        "print(df.head())"
      ],
      "metadata": {
        "colab": {
          "base_uri": "https://localhost:8080/"
        },
        "id": "kcg2pvYfOuCQ",
        "outputId": "f45c103a-cd64-4d4b-8de3-4a4c06190ae8"
      },
      "execution_count": 229,
      "outputs": [
        {
          "output_type": "stream",
          "name": "stdout",
          "text": [
            "  hours_per_week_bin occupation_bin  msr_bin capital_gl_bin race_sex_bin  \\\n",
            "0           b. 31-40   b. Mid - Low   b. Mid         c. > 0      c. High   \n",
            "1            a. 0-30        e. High  c. High         a. = 0      c. High   \n",
            "2           b. 31-40         a. Low   b. Mid         a. = 0      c. High   \n",
            "3           b. 31-40         a. Low  c. High         a. = 0       b. Mid   \n",
            "4           b. 31-40        e. High  c. High         a. = 0       a. Low   \n",
            "\n",
            "  education_num_bin education_bin workclass_bin            age_bin   flag  y  \n",
            "0             c. 13  c. Bachelors     b. income   d. 36-40 & 56-60  train  0  \n",
            "1             c. 13  c. Bachelors     b. income           e. 40-55  train  0  \n",
            "2           b. 9-12        b. Mid     b. income   d. 36-40 & 56-60  train  0  \n",
            "3            a. 0-8        a. Low     b. income           e. 40-55  train  0  \n",
            "4             c. 13  c. Bachelors     b. income  b. 26-30 & 71-100  train  0  \n"
          ]
        }
      ]
    },
    {
      "cell_type": "code",
      "source": [
        "print(df.shape)"
      ],
      "metadata": {
        "colab": {
          "base_uri": "https://localhost:8080/"
        },
        "id": "f8D15i6BO33k",
        "outputId": "ed3b8486-d20a-47e2-b454-8d0cd6fe2c79"
      },
      "execution_count": 230,
      "outputs": [
        {
          "output_type": "stream",
          "name": "stdout",
          "text": [
            "(48842, 11)\n"
          ]
        }
      ]
    },
    {
      "cell_type": "code",
      "source": [
        "df.describe"
      ],
      "metadata": {
        "colab": {
          "base_uri": "https://localhost:8080/"
        },
        "id": "yn84WiMoO7db",
        "outputId": "2a2ee65f-7891-45ed-acdf-d8c4ca7e09ee"
      },
      "execution_count": 231,
      "outputs": [
        {
          "output_type": "execute_result",
          "data": {
            "text/plain": [
              "<bound method NDFrame.describe of       hours_per_week_bin occupation_bin  msr_bin capital_gl_bin race_sex_bin  \\\n",
              "0               b. 31-40   b. Mid - Low   b. Mid         c. > 0      c. High   \n",
              "1                a. 0-30        e. High  c. High         a. = 0      c. High   \n",
              "2               b. 31-40         a. Low   b. Mid         a. = 0      c. High   \n",
              "3               b. 31-40         a. Low  c. High         a. = 0       b. Mid   \n",
              "4               b. 31-40        e. High  c. High         a. = 0       a. Low   \n",
              "...                  ...            ...      ...            ...          ...   \n",
              "48837           b. 31-40        e. High   b. Mid         a. = 0       b. Mid   \n",
              "48838           b. 31-40   b. Mid - Low   a. Low         a. = 0       b. Mid   \n",
              "48839   d. 41-50 & 61-70        e. High  c. High         a. = 0      c. High   \n",
              "48840           b. 31-40   b. Mid - Low   a. Low         c. > 0      c. High   \n",
              "48841           e. 51-60        e. High  c. High         a. = 0      c. High   \n",
              "\n",
              "      education_num_bin education_bin workclass_bin            age_bin   flag  \\\n",
              "0                 c. 13  c. Bachelors     b. income   d. 36-40 & 56-60  train   \n",
              "1                 c. 13  c. Bachelors     b. income           e. 40-55  train   \n",
              "2               b. 9-12        b. Mid     b. income   d. 36-40 & 56-60  train   \n",
              "3                a. 0-8        a. Low     b. income           e. 40-55  train   \n",
              "4                 c. 13  c. Bachelors     b. income  b. 26-30 & 71-100  train   \n",
              "...                 ...           ...           ...                ...    ...   \n",
              "48837             c. 13  c. Bachelors     b. income   d. 36-40 & 56-60   test   \n",
              "48838           b. 9-12        b. Mid  a. no income   c. 31-35 & 61-70   test   \n",
              "48839             c. 13  c. Bachelors     b. income   d. 36-40 & 56-60   test   \n",
              "48840             c. 13  c. Bachelors     b. income           e. 40-55   test   \n",
              "48841             c. 13  c. Bachelors     b. income   c. 31-35 & 61-70   test   \n",
              "\n",
              "       y  \n",
              "0      0  \n",
              "1      0  \n",
              "2      0  \n",
              "3      0  \n",
              "4      0  \n",
              "...   ..  \n",
              "48837  0  \n",
              "48838  0  \n",
              "48839  0  \n",
              "48840  0  \n",
              "48841  1  \n",
              "\n",
              "[48842 rows x 11 columns]>"
            ]
          },
          "metadata": {},
          "execution_count": 231
        }
      ]
    },
    {
      "cell_type": "code",
      "source": [
        "df.isnull().sum()\n",
        "#no null values in the dataset"
      ],
      "metadata": {
        "colab": {
          "base_uri": "https://localhost:8080/"
        },
        "id": "xAt7kcNJPJpn",
        "outputId": "c10e8037-80bb-460e-b220-19a93897a13b"
      },
      "execution_count": 232,
      "outputs": [
        {
          "output_type": "execute_result",
          "data": {
            "text/plain": [
              "hours_per_week_bin    0\n",
              "occupation_bin        0\n",
              "msr_bin               0\n",
              "capital_gl_bin        0\n",
              "race_sex_bin          0\n",
              "education_num_bin     0\n",
              "education_bin         0\n",
              "workclass_bin         0\n",
              "age_bin               0\n",
              "flag                  0\n",
              "y                     0\n",
              "dtype: int64"
            ]
          },
          "metadata": {},
          "execution_count": 232
        }
      ]
    },
    {
      "cell_type": "code",
      "source": [
        "###This is the same dataset as ca04..... the data does need to be modified at this point"
      ],
      "metadata": {
        "id": "DWFMRSvSPOmD"
      },
      "execution_count": 233,
      "outputs": []
    },
    {
      "cell_type": "markdown",
      "source": [
        "# Finding Optimal Value of a key Ensemble Method Hyper-parameter\n",
        "\n",
        "Finding Optimal Value of a key Ensemble Method Hyper-\n",
        "parameter\n",
        "For Ensemble Models, one of the key hyper-parameter is number of “estimators”. You are\n",
        "required to find its best value by creating the following line graphs:\n",
        "- Accuracy Vs. n_estimators\n",
        "- AUC Vs. n_estimators"
      ],
      "metadata": {
        "id": "B06bh0tjPmL4"
      }
    },
    {
      "cell_type": "markdown",
      "source": [
        " - Example of what will be done later in this program\n",
        "results = []\n",
        "max_depth_options = [2,4,6,8,10,12,14,16,18,20]\n",
        "for trees in max_depth_options:\n",
        "  model = DecisionTreeClassifier (max_depth = trees, random_state=101)\n",
        "  model.fit(x_train, y_train)\n",
        "  y_pred = model.predict (x_test)\n",
        "  accuracy = np.mean (y_test == y_pred)\n",
        "  results.append (accuracy)\n",
        "\n",
        "plt.figure(figsize=(8,4))\n",
        "pd.Series(results, max_depth_options).plot(color=\"darkred\" ‚marker=\"o\")"
      ],
      "metadata": {
        "id": "fnZy5lkRZV5R"
      }
    },
    {
      "cell_type": "markdown",
      "source": [
        "# Building a Random Forest Model"
      ],
      "metadata": {
        "id": "Liy-HxrYSMdS"
      }
    },
    {
      "cell_type": "code",
      "source": [
        "from sklearn.metrics import roc_auc_score\n",
        "from sklearn.metrics import plot_roc_curve\n",
        "from sklearn.metrics import accuracy_score\n",
        "from sklearn.ensemble import RandomForestClassifier\n",
        "from sklearn.tree import plot_tree\n",
        "from sklearn.model_selection import train_test_split\n",
        "from sklearn.tree import DecisionTreeClassifier\n",
        "from sklearn.preprocessing import OrdinalEncoder\n",
        "from sklearn import preprocessing"
      ],
      "metadata": {
        "id": "qLP0HILua_8t"
      },
      "execution_count": 234,
      "outputs": []
    },
    {
      "cell_type": "code",
      "source": [
        "#split the df according to train & fit data\n",
        "train = df[df['flag'] == 'train']\n",
        "test = df[df['flag'] == 'test']"
      ],
      "metadata": {
        "id": "NdtfpW_aScKA"
      },
      "execution_count": 235,
      "outputs": []
    },
    {
      "cell_type": "code",
      "source": [
        "x_train = pd.get_dummies(train[['age_bin', 'education_bin', 'workclass_bin', 'capital_gl_bin', 'hours_per_week_bin','race_sex_bin','msr_bin']],drop_first=True)\n",
        "y_train = train['y']"
      ],
      "metadata": {
        "id": "TE4OeOyfSeoQ"
      },
      "execution_count": 236,
      "outputs": []
    },
    {
      "cell_type": "code",
      "source": [
        "x_test = pd.get_dummies(test[['age_bin', 'education_bin', 'workclass_bin', 'capital_gl_bin', 'hours_per_week_bin','race_sex_bin','msr_bin']],drop_first=True)\n",
        "y_test = test['y']"
      ],
      "metadata": {
        "id": "CGpgbAWJSgYg"
      },
      "execution_count": 237,
      "outputs": []
    },
    {
      "cell_type": "code",
      "source": [
        "\n",
        "#check for the sklearn version\n",
        "import sklearn\n",
        "print(sklearn.__version__)"
      ],
      "metadata": {
        "colab": {
          "base_uri": "https://localhost:8080/"
        },
        "id": "v69qLeYUSqwV",
        "outputId": "c01e1e8b-fa0a-4555-a8b6-1097425ee4b9"
      },
      "execution_count": 238,
      "outputs": [
        {
          "output_type": "stream",
          "name": "stdout",
          "text": [
            "1.0.2\n"
          ]
        }
      ]
    },
    {
      "cell_type": "code",
      "source": [
        "# Encode  the train data sets (X_train)\n",
        "oe = preprocessing.OrdinalEncoder()\n",
        "oe.fit(x_train)\n",
        "x_train= oe.transform(x_train)\n",
        "x_train= pd.DataFrame(x_train)\n",
        "# Encode the test data sets \n",
        "oe.fit(x_test)\n",
        "x_test= oe.transform(x_test)\n",
        "x_test= pd.DataFrame(x_test)"
      ],
      "metadata": {
        "id": "zSOmeGmQkjJL"
      },
      "execution_count": 239,
      "outputs": []
    },
    {
      "cell_type": "code",
      "source": [
        "x_train, x_test, y_train, y_test = train_test_split(x_train, y_train, test_size=0.3, random_state=101)"
      ],
      "metadata": {
        "id": "d6_ybMp0SzVr"
      },
      "execution_count": 240,
      "outputs": []
    },
    {
      "cell_type": "code",
      "source": [
        "# Define the values for the n_estimators hyperparameter\n",
        "n_estimators_options = [50, 100, 150, 200, 250, 300, 350, 400, 450, 500]"
      ],
      "metadata": {
        "id": "d0M8rMyKWZSc"
      },
      "execution_count": 241,
      "outputs": []
    },
    {
      "cell_type": "code",
      "source": [
        "# Train a Random Forest Model for each n_estimators value and calculate accuracy and AUC scores\n",
        "results_acc = []\n",
        "results_auc = []\n",
        "for n_estimators in n_estimators_options:\n",
        "    rf_model = RandomForestClassifier(n_estimators=n_estimators, random_state=101)\n",
        "    rf_model.fit(x_train, y_train)\n",
        "    y_pred = rf_model.predict(x_test)\n",
        "    acc_score = accuracy_score(y_test, y_pred)\n",
        "    auc_score = roc_auc_score(y_test, y_pred)\n",
        "    results_acc.append(acc_score)\n",
        "    results_auc.append(auc_score)"
      ],
      "metadata": {
        "id": "ajviVer_WbFd"
      },
      "execution_count": 242,
      "outputs": []
    },
    {
      "cell_type": "code",
      "source": [
        "# Plot the Accuracy vs. n_estimators graph\n",
        "plt.figure(figsize=(8,4))\n",
        "pd.Series(results_acc, n_estimators_options).plot(color=\"darkred\", marker=\"o\")\n",
        "plt.xlabel(\"n_estimators\")\n",
        "plt.ylabel(\"Accuracy\")\n",
        "plt.title(\"Accuracy vs. n_estimators\")"
      ],
      "metadata": {
        "colab": {
          "base_uri": "https://localhost:8080/",
          "height": 314
        },
        "id": "nsDDhapeWnPc",
        "outputId": "fc04fdd1-98de-4a56-a789-b7ba0be94e06"
      },
      "execution_count": 243,
      "outputs": [
        {
          "output_type": "execute_result",
          "data": {
            "text/plain": [
              "Text(0.5, 1.0, 'Accuracy vs. n_estimators')"
            ]
          },
          "metadata": {},
          "execution_count": 243
        },
        {
          "output_type": "display_data",
          "data": {
            "text/plain": [
              "<Figure size 576x288 with 1 Axes>"
            ],
            "image/png": "[encoded data removed]"
          },
          "metadata": {
            "needs_background": "light"
          }
        }
      ]
    },
    {
      "cell_type": "code",
      "source": [
        "# Plot the AUC vs. n_estimators graph\n",
        "plt.figure(figsize=(8,4))\n",
        "pd.Series(results_auc, n_estimators_options).plot(color=\"darkblue\", marker=\"o\")\n",
        "plt.xlabel(\"n_estimators\")\n",
        "plt.ylabel(\"AUC\")\n",
        "plt.title(\"AUC vs. n_estimators\")"
      ],
      "metadata": {
        "colab": {
          "base_uri": "https://localhost:8080/",
          "height": 314
        },
        "id": "Gq_MLCRkWqAW",
        "outputId": "25d5b286-e37a-4d04-a958-26f96acef144"
      },
      "execution_count": 244,
      "outputs": [
        {
          "output_type": "execute_result",
          "data": {
            "text/plain": [
              "Text(0.5, 1.0, 'AUC vs. n_estimators')"
            ]
          },
          "metadata": {},
          "execution_count": 244
        },
        {
          "output_type": "display_data",
          "data": {
            "text/plain": [
              "<Figure size 576x288 with 1 Axes>"
            ],
            "image/png": "[encoded data removed]"
          },
          "metadata": {
            "needs_background": "light"
          }
        }
      ]
    },
    {
      "cell_type": "markdown",
      "source": [
        "# 4. Building AdaBoost, Gradient Boost, and XGB."
      ],
      "metadata": {
        "id": "NeG6bbzsW7R8"
      }
    },
    {
      "cell_type": "code",
      "source": [
        "#Repeating previous steps for AdaBoost, Gradient Boost, and XGB classifiers\n",
        "from sklearn.ensemble import AdaBoostClassifier, GradientBoostingClassifier\n",
        "from xgboost import XGBClassifier"
      ],
      "metadata": {
        "id": "CjlI0TXZW_DW"
      },
      "execution_count": 245,
      "outputs": []
    },
    {
      "cell_type": "code",
      "source": [
        "# Define the values for the n_estimators hyperparameter\n",
        "n_estimators_options = [50, 100, 150, 200, 250, 300, 350, 400, 450, 500]\n",
        "\n",
        "# Train an AdaBoost Classifier for each n_estimators value and calculate accuracy and AUC scores\n",
        "results_acc_ada = []\n",
        "results_auc_ada = []\n",
        "for n_estimators in n_estimators_options:\n",
        "    ada_model = AdaBoostClassifier(n_estimators=n_estimators, random_state=101)\n",
        "    ada_model.fit(x_train, y_train)\n",
        "    y_pred = ada_model.predict(x_test)\n",
        "    acc_score = accuracy_score(y_test, y_pred)\n",
        "    auc_score = roc_auc_score(y_test, y_pred)\n",
        "    results_acc_ada.append(acc_score)\n",
        "    results_auc_ada.append(auc_score)"
      ],
      "metadata": {
        "id": "Rp6BPPWpYKCg"
      },
      "execution_count": 246,
      "outputs": []
    },
    {
      "cell_type": "code",
      "source": [
        "# Plot the Accuracy vs. n_estimators graph for AdaBoost Classifier\n",
        "plt.figure(figsize=(8,4))\n",
        "pd.Series(results_acc_ada, n_estimators_options).plot(color=\"darkred\", marker=\"o\")\n",
        "plt.xlabel(\"n_estimators\")\n",
        "plt.ylabel(\"Accuracy\")\n",
        "plt.title(\"AdaBoost Classifier: Accuracy vs. n_estimators\")"
      ],
      "metadata": {
        "colab": {
          "base_uri": "https://localhost:8080/",
          "height": 314
        },
        "id": "EkXfR783YbmC",
        "outputId": "a23a1fa8-2835-46fc-acd7-06b3ed52fe9d"
      },
      "execution_count": 247,
      "outputs": [
        {
          "output_type": "execute_result",
          "data": {
            "text/plain": [
              "Text(0.5, 1.0, 'AdaBoost Classifier: Accuracy vs. n_estimators')"
            ]
          },
          "metadata": {},
          "execution_count": 247
        },
        {
          "output_type": "display_data",
          "data": {
            "text/plain": [
              "<Figure size 576x288 with 1 Axes>"
            ],
            "image/png": "[encoded data removed]"
          },
          "metadata": {
            "needs_background": "light"
          }
        }
      ]
    },
    {
      "cell_type": "code",
      "source": [
        "plt.figure(figsize=(8,4))\n",
        "pd.Series(results_auc_ada, n_estimators_options).plot(color=\"darkblue\", marker=\"o\")\n",
        "plt.xlabel(\"n_estimators\")\n",
        "plt.ylabel(\"AUC\")\n",
        "plt.title(\"AdaBoost Classifier: AUC vs. n_estimators\")"
      ],
      "metadata": {
        "colab": {
          "base_uri": "https://localhost:8080/",
          "height": 314
        },
        "id": "jBiG_z2-YfrW",
        "outputId": "07db96bc-6740-4771-e3fa-4cc00578705d"
      },
      "execution_count": 248,
      "outputs": [
        {
          "output_type": "execute_result",
          "data": {
            "text/plain": [
              "Text(0.5, 1.0, 'AdaBoost Classifier: AUC vs. n_estimators')"
            ]
          },
          "metadata": {},
          "execution_count": 248
        },
        {
          "output_type": "display_data",
          "data": {
            "text/plain": [
              "<Figure size 576x288 with 1 Axes>"
            ],
            "image/png": "[encoded data removed]"
          },
          "metadata": {
            "needs_background": "light"
          }
        }
      ]
    },
    {
      "cell_type": "code",
      "source": [
        "# Train a Gradient Boost Model for each n_estimators value and calculate accuracy and AUC scores\n",
        "results_acc_gb = []\n",
        "results_auc_gb = []\n",
        "for n_estimators in n_estimators_options:\n",
        "    gb_model = GradientBoostingClassifier(n_estimators=n_estimators, random_state=101)\n",
        "    gb_model.fit(x_train, y_train)\n",
        "    y_pred = gb_model.predict(x_test)\n",
        "    acc_score = accuracy_score(y_test, y_pred)\n",
        "    auc_score = roc_auc_score(y_test, y_pred)\n",
        "    results_acc_gb.append(acc_score)\n",
        "    results_auc_gb.append(auc_score)"
      ],
      "metadata": {
        "id": "PBt49FArb9-r"
      },
      "execution_count": 249,
      "outputs": []
    },
    {
      "cell_type": "code",
      "source": [
        "# Plot the Accuracy vs. n_estimators graph for Gradient Boost\n",
        "plt.figure(figsize=(8,4))\n",
        "pd.Series(results_acc_gb, n_estimators_options).plot(color=\"darkgreen\", marker=\"o\")\n",
        "plt.xlabel(\"n_estimators\")\n",
        "plt.ylabel(\"Accuracy\")\n",
        "plt.title(\"Gradient Boost: Accuracy vs. n_estimators\")"
      ],
      "metadata": {
        "colab": {
          "base_uri": "https://localhost:8080/",
          "height": 314
        },
        "id": "DiFPBZsBch15",
        "outputId": "8a08c076-1c8d-4785-b707-e6f4f3377bfd"
      },
      "execution_count": 250,
      "outputs": [
        {
          "output_type": "execute_result",
          "data": {
            "text/plain": [
              "Text(0.5, 1.0, 'Gradient Boost: Accuracy vs. n_estimators')"
            ]
          },
          "metadata": {},
          "execution_count": 250
        },
        {
          "output_type": "display_data",
          "data": {
            "text/plain": [
              "<Figure size 576x288 with 1 Axes>"
            ],
            "image/png": "[encoded data removed]"
          },
          "metadata": {
            "needs_background": "light"
          }
        }
      ]
    },
    {
      "cell_type": "code",
      "source": [
        "# Plot the AUC vs. n_estimators graph for Gradient Boost\n",
        "plt.figure(figsize=(8,4))\n",
        "pd.Series(results_auc_gb, n_estimators_options).plot(color=\"darkgreen\", marker=\"o\")\n",
        "plt.xlabel(\"n_estimators\")\n",
        "plt.ylabel(\"AUC\")\n",
        "plt.title(\"Gradient Boost: AUC vs. n_estimators\")"
      ],
      "metadata": {
        "colab": {
          "base_uri": "https://localhost:8080/",
          "height": 314
        },
        "id": "-Wb1xAjPcj7W",
        "outputId": "8fdf24e9-22be-4966-9878-2737a06d5215"
      },
      "execution_count": 251,
      "outputs": [
        {
          "output_type": "execute_result",
          "data": {
            "text/plain": [
              "Text(0.5, 1.0, 'Gradient Boost: AUC vs. n_estimators')"
            ]
          },
          "metadata": {},
          "execution_count": 251
        },
        {
          "output_type": "display_data",
          "data": {
            "text/plain": [
              "<Figure size 576x288 with 1 Axes>"
            ],
            "image/png": "[encoded data removed]"
          },
          "metadata": {
            "needs_background": "light"
          }
        }
      ]
    },
    {
      "cell_type": "code",
      "source": [
        "n_estimators_options = [50, 100, 150, 200, 250, 300, 350, 400, 450, 500]\n",
        "\n",
        "# Train an XGB Model for each n_estimators value and calculate accuracy and AUC scores\n",
        "results_acc_xgb = []\n",
        "results_auc_xgb = []\n",
        "for n_estimators in n_estimators_options:\n",
        "    xgb_model = XGBClassifier(n_estimators=n_estimators, random_state=101)\n",
        "    xgb_model.fit(x_train, y_train)\n",
        "    y_pred = xgb_model.predict(x_test)\n",
        "    acc_score = accuracy_score(y_test, y_pred)\n",
        "    auc_score = roc_auc_score(y_test, y_pred)\n",
        "    results_acc_xgb.append(acc_score)\n",
        "    results_auc_xgb.append(auc_score)"
      ],
      "metadata": {
        "id": "LHS6OBg2dmfJ"
      },
      "execution_count": 252,
      "outputs": []
    },
    {
      "cell_type": "code",
      "source": [
        "# Plot the Accuracy vs. n_estimators graph for XGB\n",
        "plt.figure(figsize=(8,4))\n",
        "pd.Series(results_acc_xgb, n_estimators_options).plot(color=\"blue\", marker=\"o\")\n",
        "plt.xlabel(\"n_estimators\")\n",
        "plt.ylabel(\"Accuracy\")\n",
        "plt.title(\"XGB: Accuracy vs. n_estimators\")"
      ],
      "metadata": {
        "colab": {
          "base_uri": "https://localhost:8080/",
          "height": 314
        },
        "id": "7fQBR4MwkW2y",
        "outputId": "0cf51cf0-49c6-4717-93fc-0116250e9a8e"
      },
      "execution_count": 253,
      "outputs": [
        {
          "output_type": "execute_result",
          "data": {
            "text/plain": [
              "Text(0.5, 1.0, 'XGB: Accuracy vs. n_estimators')"
            ]
          },
          "metadata": {},
          "execution_count": 253
        },
        {
          "output_type": "display_data",
          "data": {
            "text/plain": [
              "<Figure size 576x288 with 1 Axes>"
            ],
            "image/png": "[encoded data removed]"
          },
          "metadata": {
            "needs_background": "light"
          }
        }
      ]
    },
    {
      "cell_type": "code",
      "source": [
        "# Plot the AUC vs. n_estimators graph for XGB\n",
        "plt.figure(figsize=(8,4))\n",
        "pd.Series(results_auc_xgb, n_estimators_options).plot(color=\"blue\", marker=\"o\")\n",
        "plt.xlabel(\"n_estimators\")\n",
        "plt.ylabel(\"AUC\")\n",
        "plt.title(\"XGB: AUC vs. n_estimators\")"
      ],
      "metadata": {
        "colab": {
          "base_uri": "https://localhost:8080/",
          "height": 314
        },
        "id": "lTrG3aCQkZ7R",
        "outputId": "6fa5cbb9-0f7f-44f0-ab69-6b30e0074a94"
      },
      "execution_count": 254,
      "outputs": [
        {
          "output_type": "execute_result",
          "data": {
            "text/plain": [
              "Text(0.5, 1.0, 'XGB: AUC vs. n_estimators')"
            ]
          },
          "metadata": {},
          "execution_count": 254
        },
        {
          "output_type": "display_data",
          "data": {
            "text/plain": [
              "<Figure size 576x288 with 1 Axes>"
            ],
            "image/png": "[encoded data removed]"
          },
          "metadata": {
            "needs_background": "light"
          }
        }
      ]
    },
    {
      "cell_type": "markdown",
      "source": [
        "# Compare Performance"
      ],
      "metadata": {
        "id": "TpdoAlzNnvaS"
      }
    },
    {
      "cell_type": "code",
      "source": [
        "# Find the n_estimator value with the highest accuracy score for each model\n",
        "rf_best_n = n_estimators_options[results_acc.index(max(results_acc))]\n",
        "ada_best_n = n_estimators_options[results_acc_ada.index(max(results_acc_ada))]\n",
        "gb_best_n = n_estimators_options[results_acc_gb.index(max(results_acc_gb))]\n",
        "xgb_best_n = n_estimators_options[results_acc_xgb.index(max(results_acc_xgb))]\n",
        "\n",
        "rf_best_auc = results_auc[results_acc.index(max(results_acc))]\n",
        "ada_best_auc = results_auc_ada[results_acc_ada.index(max(results_acc_ada))]\n",
        "gb_best_auc = results_auc_gb[results_acc_gb.index(max(results_acc_gb))]\n",
        "xgb_best_auc = results_auc_xgb[results_acc_xgb.index(max(results_acc_xgb))]"
      ],
      "metadata": {
        "id": "dHSTXW2MnzY1"
      },
      "execution_count": 255,
      "outputs": []
    },
    {
      "cell_type": "code",
      "source": [
        "data = {\n",
        "'Metric': ['ACC', 'AUC'],\n",
        "'Random Forest': [max(results_acc), rf_best_auc],\n",
        "'AdaBoost': [max(results_acc_ada), ada_best_auc],\n",
        "'Gradient Boost': [max(results_acc_gb), gb_best_auc],\n",
        "'XGB': [max(results_acc_xgb), xgb_best_auc]\n",
        "}"
      ],
      "metadata": {
        "id": "fjhoxBhrsNRZ"
      },
      "execution_count": 256,
      "outputs": []
    },
    {
      "cell_type": "code",
      "source": [
        "comp_df = pd.DataFrame(data).set_index('Metric')\n",
        "comp_df"
      ],
      "metadata": {
        "colab": {
          "base_uri": "https://localhost:8080/",
          "height": 143
        },
        "id": "RgzgnCiOpokG",
        "outputId": "a52948fd-adea-4453-94ba-74949e1ef625"
      },
      "execution_count": 257,
      "outputs": [
        {
          "output_type": "execute_result",
          "data": {
            "text/plain": [
              "        Random Forest  AdaBoost  Gradient Boost       XGB\n",
              "Metric                                                   \n",
              "ACC          0.840414  0.842768        0.844508  0.844508\n",
              "AUC          0.733389  0.751261        0.738432  0.736961"
            ],
            "text/html": [
              "\n",
              "  <div id=\"df-9a4fe8b5-ea21-4bbf-aec7-71c8a09cae28\">\n",
              "    <div class=\"colab-df-container\">\n",
              "      <div>\n",
              "<style scoped>\n",
              "    .dataframe tbody tr th:only-of-type {\n",
              "        vertical-align: middle;\n",
              "    }\n",
              "\n",
              "    .dataframe tbody tr th {\n",
              "        vertical-align: top;\n",
              "    }\n",
              "\n",
              "    .dataframe thead th {\n",
              "        text-align: right;\n",
              "    }\n",
              "</style>\n",
              "<table border=\"1\" class=\"dataframe\">\n",
              "  <thead>\n",
              "    <tr style=\"text-align: right;\">\n",
              "      <th></th>\n",
              "      <th>Random Forest</th>\n",
              "      <th>AdaBoost</th>\n",
              "      <th>Gradient Boost</th>\n",
              "      <th>XGB</th>\n",
              "    </tr>\n",
              "    <tr>\n",
              "      <th>Metric</th>\n",
              "      <th></th>\n",
              "      <th></th>\n",
              "      <th></th>\n",
              "      <th></th>\n",
              "    </tr>\n",
              "  </thead>\n",
              "  <tbody>\n",
              "    <tr>\n",
              "      <th>ACC</th>\n",
              "      <td>0.840414</td>\n",
              "      <td>0.842768</td>\n",
              "      <td>0.844508</td>\n",
              "      <td>0.844508</td>\n",
              "    </tr>\n",
              "    <tr>\n",
              "      <th>AUC</th>\n",
              "      <td>0.733389</td>\n",
              "      <td>0.751261</td>\n",
              "      <td>0.738432</td>\n",
              "      <td>0.736961</td>\n",
              "    </tr>\n",
              "  </tbody>\n",
              "</table>\n",
              "</div>\n",
              "      <button class=\"colab-df-convert\" onclick=\"convertToInteractive('df-9a4fe8b5-ea21-4bbf-aec7-71c8a09cae28')\"\n",
              "              title=\"Convert this dataframe to an interactive table.\"\n",
              "              style=\"display:none;\">\n",
              "        \n",
              "  <svg xmlns=\"http://www.w3.org/2000/svg\" height=\"24px\"viewBox=\"0 0 24 24\"\n",
              "       width=\"24px\">\n",
              "    <path d=\"M0 0h24v24H0V0z\" fill=\"none\"/>\n",
              "    <path d=\"M18.56 5.44l.94 2.06.94-2.06 2.06-.94-2.06-.94-.94-2.06-.94 2.06-2.06.94zm-11 1L8.5 8.5l.94-2.06 2.06-.94-2.06-.94L8.5 2.5l-.94 2.06-2.06.94zm10 10l.94 2.06.94-2.06 2.06-.94-2.06-.94-.94-2.06-.94 2.06-2.06.94z\"/><path d=\"M17.41 7.96l-1.37-1.37c-.4-.4-.92-.59-1.43-.59-.52 0-1.04.2-1.43.59L10.3 9.45l-7.72 7.72c-.78.78-.78 2.05 0 2.83L4 21.41c.39.39.9.59 1.41.59.51 0 1.02-.2 1.41-.59l7.78-7.78 2.81-2.81c.8-.78.8-2.07 0-2.86zM5.41 20L4 18.59l7.72-7.72 1.47 1.35L5.41 20z\"/>\n",
              "  </svg>\n",
              "      </button>\n",
              "      \n",
              "  <style>\n",
              "    .colab-df-container {\n",
              "      display:flex;\n",
              "      flex-wrap:wrap;\n",
              "      gap: 12px;\n",
              "    }\n",
              "\n",
              "    .colab-df-convert {\n",
              "      background-color: #E8F0FE;\n",
              "      border: none;\n",
              "      border-radius: 50%;\n",
              "      cursor: pointer;\n",
              "      display: none;\n",
              "      fill: #1967D2;\n",
              "      height: 32px;\n",
              "      padding: 0 0 0 0;\n",
              "      width: 32px;\n",
              "    }\n",
              "\n",
              "    .colab-df-convert:hover {\n",
              "      background-color: #E2EBFA;\n",
              "      box-shadow: 0px 1px 2px rgba(60, 64, 67, 0.3), 0px 1px 3px 1px rgba(60, 64, 67, 0.15);\n",
              "      fill: #174EA6;\n",
              "    }\n",
              "\n",
              "    [theme=dark] .colab-df-convert {\n",
              "      background-color: #3B4455;\n",
              "      fill: #D2E3FC;\n",
              "    }\n",
              "\n",
              "    [theme=dark] .colab-df-convert:hover {\n",
              "      background-color: #434B5C;\n",
              "      box-shadow: 0px 1px 3px 1px rgba(0, 0, 0, 0.15);\n",
              "      filter: drop-shadow(0px 1px 2px rgba(0, 0, 0, 0.3));\n",
              "      fill: #FFFFFF;\n",
              "    }\n",
              "  </style>\n",
              "\n",
              "      <script>\n",
              "        const buttonEl =\n",
              "          document.querySelector('#df-9a4fe8b5-ea21-4bbf-aec7-71c8a09cae28 button.colab-df-convert');\n",
              "        buttonEl.style.display =\n",
              "          google.colab.kernel.accessAllowed ? 'block' : 'none';\n",
              "\n",
              "        async function convertToInteractive(key) {\n",
              "          const element = document.querySelector('#df-9a4fe8b5-ea21-4bbf-aec7-71c8a09cae28');\n",
              "          const dataTable =\n",
              "            await google.colab.kernel.invokeFunction('convertToInteractive',\n",
              "                                                     [key], {});\n",
              "          if (!dataTable) return;\n",
              "\n",
              "          const docLinkHtml = 'Like what you see? Visit the ' +\n",
              "            '<a target=\"_blank\" href=https://colab.research.google.com/notebooks/data_table.ipynb>data table notebook</a>'\n",
              "            + ' to learn more about interactive tables.';\n",
              "          element.innerHTML = '';\n",
              "          dataTable['output_type'] = 'display_data';\n",
              "          await google.colab.output.renderOutput(dataTable, element);\n",
              "          const docLink = document.createElement('div');\n",
              "          docLink.innerHTML = docLinkHtml;\n",
              "          element.appendChild(docLink);\n",
              "        }\n",
              "      </script>\n",
              "    </div>\n",
              "  </div>\n",
              "  "
            ]
          },
          "metadata": {},
          "execution_count": 257
        }
      ]
    },
    {
      "cell_type": "code",
      "source": [
        "#1. Write your observations about the Classifier’s behavior with respect to the number of estimators\n",
        "##Random Forest: As the number of estimators increases, the accuracy and AUC scores tend to improve, \n",
        "##but the improvement becomes less significant.\n",
        "\n",
        "##AdaBoost: As the number of estimators increases, the accuracy and AUC scores tend to improve, \n",
        "##but then plateau or decrease after a certain point.\n",
        "\n",
        "##Gradient Boost: The accuracy and AUC scores tend to improve as the number of estimators increases, \n",
        "##but at a slower rate than Random Forest.\n",
        "\n",
        "##XGBoost: Similar to AdaBoost, the accuracy and AUC scores tend to improve as the number of estimators increases, \n",
        "##but then plateau or decrease after a certain point."
      ],
      "metadata": {
        "id": "IJQtevH61eZz"
      },
      "execution_count": 258,
      "outputs": []
    },
    {
      "cell_type": "code",
      "source": [
        "#2. Is there an optimal value of the estimator within the given range\n",
        "##The optimal value based on the n_estimators range varies depending on the classifier model.\n",
        "##For the RFM the acc and auc are at its highest exactly between 100 and 200\n",
        "##While the ADABoost is at the start of 100.\n",
        "##Gradient Boost is closer towards 200.\n",
        "##XGB similar to RFM peaks in between 100 and 200.\n",
        "##Based off of these results that optimal range ultimately can be found between 100 and 200 for a total range of n_estimators of 50 to 500. \n"
      ],
      "metadata": {
        "id": "URTygb3I4wof"
      },
      "execution_count": 259,
      "outputs": []
    }
  ]
}